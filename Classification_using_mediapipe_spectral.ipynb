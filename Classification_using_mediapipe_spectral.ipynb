{
  "cells": [
    {
      "cell_type": "markdown",
      "source": [
        "## Imports and Load Data"
      ],
      "metadata": {
        "id": "RjFGZcg2B6um"
      }
    },
    {
      "cell_type": "code",
      "execution_count": 29,
      "metadata": {
        "id": "8hqVA2xM3Y6M"
      },
      "outputs": [],
      "source": [
        "import pandas as pd\n",
        "import numpy as np\n",
        "import tensorflow as tf\n",
        "from tensorflow.keras.callbacks import ModelCheckpoint\n",
        "from tensorflow.keras import Sequential\n",
        "from tensorflow.keras.layers import Bidirectional, LSTM, Dropout, Flatten, Dense, Conv1D, MaxPooling1D\n",
        "from tensorflow.keras.models import save_model, load_model\n",
        "from sklearn.model_selection import train_test_split\n",
        "from sklearn.preprocessing import LabelEncoder\n",
        "from tqdm import tqdm\n",
        "tqdm.pandas()\n",
        "import pickle\n",
        "import warnings\n",
        "warnings.filterwarnings(\"ignore\")"
      ]
    },
    {
      "cell_type": "code",
      "source": [
        "from google.colab import drive\n",
        "drive.mount('/content/drive', force_remount=True)"
      ],
      "metadata": {
        "colab": {
          "base_uri": "https://localhost:8080/"
        },
        "id": "jhKhUYLnLtb4",
        "outputId": "fb772b4c-f256-484d-9fb9-6b58eb83ef1c"
      },
      "execution_count": 2,
      "outputs": [
        {
          "output_type": "stream",
          "name": "stdout",
          "text": [
            "Mounted at /content/drive\n"
          ]
        }
      ]
    },
    {
      "cell_type": "markdown",
      "source": [
        "This code assumes that the data is preprocessed including clustering, data augmentation and dimension reduction (if required)"
      ],
      "metadata": {
        "id": "XyR8R5piCEXO"
      }
    },
    {
      "cell_type": "code",
      "execution_count": 3,
      "metadata": {
        "id": "ogi0VIOv3Y6O"
      },
      "outputs": [],
      "source": [
        "with open('/content/drive/MyDrive/ml_project/spectral_X_train_flat.pkl','rb') as f:\n",
        "    X_train_flat = pickle.load(f)\n",
        "\n",
        "with open('/content/drive/MyDrive/ml_project/spectral_X_test_flat.pkl','rb') as f:\n",
        "    X_test_flat = pickle.load(f)\n",
        "\n",
        "with open('/content/drive/MyDrive/ml_project/spectral_X_train_cood.pkl','rb') as f:\n",
        "    X_train_cood = pickle.load(f)\n",
        "\n",
        "with open('/content/drive/MyDrive/ml_project/spectral_X_test_cood.pkl','rb') as f:\n",
        "    X_test_cood = pickle.load(f)\n",
        "\n",
        "with open('/content/drive/MyDrive/ml_project/spectral_y_train.pkl','rb') as f:\n",
        "    y_train = pickle.load(f)\n",
        "\n",
        "with open('/content/drive/MyDrive/ml_project/spectral_y_test.pkl','rb') as f:\n",
        "    y_test = pickle.load(f)"
      ]
    },
    {
      "cell_type": "code",
      "source": [
        "X_train_flat.shape"
      ],
      "metadata": {
        "colab": {
          "base_uri": "https://localhost:8080/"
        },
        "id": "6l8SnzzOJKJI",
        "outputId": "03f39d1a-dec5-4da7-d9cb-f3361f54294d"
      },
      "execution_count": 4,
      "outputs": [
        {
          "output_type": "execute_result",
          "data": {
            "text/plain": [
              "(20971, 15, 150)"
            ]
          },
          "metadata": {},
          "execution_count": 4
        }
      ]
    },
    {
      "cell_type": "code",
      "source": [
        "# 1D CNN and BiLSTM\n",
        "X_train = X_train_flat\n",
        "X_test = X_test_flat\n",
        "\n",
        "# 2D CNN\n",
        "# X_train = X_train_cood\n",
        "# X_test = X_test_cood"
      ],
      "metadata": {
        "id": "GmWUCMyQNFV9"
      },
      "execution_count": 5,
      "outputs": []
    },
    {
      "cell_type": "code",
      "execution_count": 6,
      "metadata": {
        "id": "_OS1OZFc3Y6P"
      },
      "outputs": [],
      "source": [
        "#X_train, X_test, y_train, y_test = train_test_split(data_pca, labels, test_size=0.2, random_state=42)\n",
        "\n",
        "label_encoder = LabelEncoder()\n",
        "label_encoder = label_encoder.fit(y_train)\n",
        "y_train_encoded = label_encoder.transform(y_train)\n",
        "y_test_encoded = label_encoder.transform(y_test)\n"
      ]
    },
    {
      "cell_type": "code",
      "source": [
        "len(label_encoder.classes_)"
      ],
      "metadata": {
        "colab": {
          "base_uri": "https://localhost:8080/"
        },
        "id": "rv5JlaNoNG6w",
        "outputId": "ce3a3a22-048b-4f51-c23d-8123c05265b9"
      },
      "execution_count": 7,
      "outputs": [
        {
          "output_type": "execute_result",
          "data": {
            "text/plain": [
              "1624"
            ]
          },
          "metadata": {},
          "execution_count": 7
        }
      ]
    },
    {
      "cell_type": "code",
      "source": [
        "X = np.concatenate((X_train, X_test), axis=0)\n",
        "Y = np.concatenate((y_train_encoded, y_test_encoded), axis=0)"
      ],
      "metadata": {
        "id": "ttordaizUSnQ"
      },
      "execution_count": 8,
      "outputs": []
    },
    {
      "cell_type": "code",
      "source": [
        "y_series = pd.Series(Y)\n",
        "\n",
        "# Calculate the class frequencies\n",
        "class_frequencies = y_series.value_counts()\n",
        "\n",
        "# Identify classes with frequency more than 15\n",
        "selected_classes = class_frequencies[class_frequencies > 19].index\n",
        "\n",
        "# Filter X and Y based on selected classes\n",
        "filtered_x = X[y_series.isin(selected_classes)]\n",
        "filtered_y = Y[y_series.isin(selected_classes)]\n",
        "\n",
        "# If you want to convert Y back to a NumPy array\n",
        "filtered_y = np.array(filtered_y)"
      ],
      "metadata": {
        "id": "HVkFGsbwUSqH"
      },
      "execution_count": 9,
      "outputs": []
    },
    {
      "cell_type": "code",
      "source": [
        "X_train, X_test, y_train, y_test = train_test_split(filtered_x, filtered_y, test_size=0.2, random_state=42)"
      ],
      "metadata": {
        "id": "l1yytnT7VM6b"
      },
      "execution_count": 10,
      "outputs": []
    },
    {
      "cell_type": "code",
      "source": [
        "label_encoder = LabelEncoder()\n",
        "label_encoder = label_encoder.fit(y_train)\n",
        "y_train_encoded = label_encoder.transform(y_train)\n",
        "y_test_encoded = label_encoder.transform(y_test)"
      ],
      "metadata": {
        "id": "Qu0jm81-VhNf"
      },
      "execution_count": 11,
      "outputs": []
    },
    {
      "cell_type": "code",
      "source": [
        "len(label_encoder.classes_)"
      ],
      "metadata": {
        "colab": {
          "base_uri": "https://localhost:8080/"
        },
        "id": "FPoq_s6bV1Os",
        "outputId": "bb47de21-9dde-40a3-c6ff-6de31b897c67"
      },
      "execution_count": 12,
      "outputs": [
        {
          "output_type": "execute_result",
          "data": {
            "text/plain": [
              "212"
            ]
          },
          "metadata": {},
          "execution_count": 12
        }
      ]
    },
    {
      "cell_type": "markdown",
      "source": [
        "## Classification Models"
      ],
      "metadata": {
        "id": "N4c4vnDQCbeT"
      }
    },
    {
      "cell_type": "markdown",
      "source": [
        "### 1D CNN"
      ],
      "metadata": {
        "id": "KM55PeRhCpY9"
      }
    },
    {
      "cell_type": "code",
      "execution_count": 35,
      "metadata": {
        "colab": {
          "base_uri": "https://localhost:8080/"
        },
        "id": "blPn_fJe3Y6R",
        "outputId": "768f2d5a-1a2e-4a31-e443-3d08d5a55cde"
      },
      "outputs": [
        {
          "output_type": "stream",
          "name": "stdout",
          "text": [
            "Epoch 1/150\n",
            "123/123 [==============================] - 1s 5ms/step - loss: 5.3057 - sparse_top_k_categorical_accuracy: 0.0756 - val_loss: 5.1434 - val_sparse_top_k_categorical_accuracy: 0.0824\n",
            "Epoch 2/150\n",
            "123/123 [==============================] - 0s 4ms/step - loss: 4.9769 - sparse_top_k_categorical_accuracy: 0.1135 - val_loss: 4.9984 - val_sparse_top_k_categorical_accuracy: 0.0855\n",
            "Epoch 3/150\n",
            "123/123 [==============================] - 1s 4ms/step - loss: 4.8450 - sparse_top_k_categorical_accuracy: 0.1534 - val_loss: 4.9189 - val_sparse_top_k_categorical_accuracy: 0.1302\n",
            "Epoch 4/150\n",
            "123/123 [==============================] - 0s 4ms/step - loss: 4.7194 - sparse_top_k_categorical_accuracy: 0.1992 - val_loss: 4.8875 - val_sparse_top_k_categorical_accuracy: 0.1516\n",
            "Epoch 5/150\n",
            "123/123 [==============================] - 0s 4ms/step - loss: 4.5580 - sparse_top_k_categorical_accuracy: 0.2554 - val_loss: 4.8354 - val_sparse_top_k_categorical_accuracy: 0.1872\n",
            "Epoch 6/150\n",
            "123/123 [==============================] - 1s 4ms/step - loss: 4.3658 - sparse_top_k_categorical_accuracy: 0.3198 - val_loss: 4.7831 - val_sparse_top_k_categorical_accuracy: 0.2309\n",
            "Epoch 7/150\n",
            "123/123 [==============================] - 1s 4ms/step - loss: 4.1301 - sparse_top_k_categorical_accuracy: 0.3933 - val_loss: 4.6691 - val_sparse_top_k_categorical_accuracy: 0.2767\n",
            "Epoch 8/150\n",
            "123/123 [==============================] - 0s 4ms/step - loss: 3.9239 - sparse_top_k_categorical_accuracy: 0.4495 - val_loss: 4.6259 - val_sparse_top_k_categorical_accuracy: 0.2981\n",
            "Epoch 9/150\n",
            "123/123 [==============================] - 1s 4ms/step - loss: 3.7101 - sparse_top_k_categorical_accuracy: 0.5100 - val_loss: 4.6023 - val_sparse_top_k_categorical_accuracy: 0.3042\n",
            "Epoch 10/150\n",
            "123/123 [==============================] - 1s 5ms/step - loss: 3.4973 - sparse_top_k_categorical_accuracy: 0.5625 - val_loss: 4.6721 - val_sparse_top_k_categorical_accuracy: 0.3184\n",
            "Epoch 11/150\n",
            "123/123 [==============================] - 0s 4ms/step - loss: 3.3053 - sparse_top_k_categorical_accuracy: 0.5988 - val_loss: 4.6266 - val_sparse_top_k_categorical_accuracy: 0.3652\n",
            "Epoch 12/150\n",
            "123/123 [==============================] - 0s 4ms/step - loss: 3.1103 - sparse_top_k_categorical_accuracy: 0.6492 - val_loss: 4.5863 - val_sparse_top_k_categorical_accuracy: 0.3713\n",
            "Epoch 13/150\n",
            "123/123 [==============================] - 1s 4ms/step - loss: 2.9220 - sparse_top_k_categorical_accuracy: 0.6731 - val_loss: 4.5522 - val_sparse_top_k_categorical_accuracy: 0.3988\n",
            "Epoch 14/150\n",
            "123/123 [==============================] - 0s 4ms/step - loss: 2.7505 - sparse_top_k_categorical_accuracy: 0.7006 - val_loss: 4.6199 - val_sparse_top_k_categorical_accuracy: 0.4069\n",
            "Epoch 15/150\n",
            "123/123 [==============================] - 0s 4ms/step - loss: 2.5943 - sparse_top_k_categorical_accuracy: 0.7283 - val_loss: 4.6720 - val_sparse_top_k_categorical_accuracy: 0.4232\n",
            "Epoch 16/150\n",
            "123/123 [==============================] - 0s 4ms/step - loss: 2.4508 - sparse_top_k_categorical_accuracy: 0.7525 - val_loss: 4.7294 - val_sparse_top_k_categorical_accuracy: 0.4283\n",
            "Epoch 17/150\n",
            "123/123 [==============================] - 0s 4ms/step - loss: 2.3156 - sparse_top_k_categorical_accuracy: 0.7683 - val_loss: 4.7212 - val_sparse_top_k_categorical_accuracy: 0.4466\n",
            "Epoch 18/150\n",
            "123/123 [==============================] - 0s 4ms/step - loss: 2.2007 - sparse_top_k_categorical_accuracy: 0.7850 - val_loss: 4.7862 - val_sparse_top_k_categorical_accuracy: 0.4415\n",
            "Epoch 19/150\n",
            "123/123 [==============================] - 0s 4ms/step - loss: 2.0826 - sparse_top_k_categorical_accuracy: 0.8036 - val_loss: 4.8233 - val_sparse_top_k_categorical_accuracy: 0.4842\n",
            "Epoch 20/150\n",
            "123/123 [==============================] - 0s 4ms/step - loss: 1.9746 - sparse_top_k_categorical_accuracy: 0.8143 - val_loss: 4.9594 - val_sparse_top_k_categorical_accuracy: 0.4598\n",
            "Epoch 21/150\n",
            "123/123 [==============================] - 0s 4ms/step - loss: 1.8876 - sparse_top_k_categorical_accuracy: 0.8293 - val_loss: 5.0006 - val_sparse_top_k_categorical_accuracy: 0.4720\n",
            "Epoch 22/150\n",
            "123/123 [==============================] - 0s 4ms/step - loss: 1.7903 - sparse_top_k_categorical_accuracy: 0.8438 - val_loss: 5.0945 - val_sparse_top_k_categorical_accuracy: 0.4791\n",
            "Epoch 23/150\n",
            "123/123 [==============================] - 0s 4ms/step - loss: 1.7166 - sparse_top_k_categorical_accuracy: 0.8443 - val_loss: 5.2638 - val_sparse_top_k_categorical_accuracy: 0.4975\n",
            "Epoch 24/150\n",
            "123/123 [==============================] - 0s 4ms/step - loss: 1.6357 - sparse_top_k_categorical_accuracy: 0.8568 - val_loss: 5.3926 - val_sparse_top_k_categorical_accuracy: 0.4893\n",
            "Epoch 25/150\n",
            "123/123 [==============================] - 0s 4ms/step - loss: 1.5601 - sparse_top_k_categorical_accuracy: 0.8652 - val_loss: 5.4214 - val_sparse_top_k_categorical_accuracy: 0.4964\n",
            "Epoch 26/150\n",
            "123/123 [==============================] - 0s 4ms/step - loss: 1.5082 - sparse_top_k_categorical_accuracy: 0.8779 - val_loss: 5.5987 - val_sparse_top_k_categorical_accuracy: 0.4842\n",
            "Epoch 27/150\n",
            "123/123 [==============================] - 0s 4ms/step - loss: 1.4310 - sparse_top_k_categorical_accuracy: 0.8825 - val_loss: 5.6274 - val_sparse_top_k_categorical_accuracy: 0.4852\n",
            "Epoch 28/150\n",
            "123/123 [==============================] - 0s 4ms/step - loss: 1.3702 - sparse_top_k_categorical_accuracy: 0.8914 - val_loss: 5.6285 - val_sparse_top_k_categorical_accuracy: 0.4934\n",
            "Epoch 29/150\n",
            "123/123 [==============================] - 0s 4ms/step - loss: 1.3289 - sparse_top_k_categorical_accuracy: 0.8967 - val_loss: 5.8342 - val_sparse_top_k_categorical_accuracy: 0.4873\n",
            "Epoch 30/150\n",
            "123/123 [==============================] - 0s 4ms/step - loss: 1.2473 - sparse_top_k_categorical_accuracy: 0.9061 - val_loss: 5.9874 - val_sparse_top_k_categorical_accuracy: 0.4995\n",
            "Epoch 31/150\n",
            "123/123 [==============================] - 1s 4ms/step - loss: 1.2079 - sparse_top_k_categorical_accuracy: 0.9051 - val_loss: 6.0568 - val_sparse_top_k_categorical_accuracy: 0.5025\n",
            "Epoch 32/150\n",
            "123/123 [==============================] - 1s 4ms/step - loss: 1.1635 - sparse_top_k_categorical_accuracy: 0.9112 - val_loss: 6.3202 - val_sparse_top_k_categorical_accuracy: 0.4934\n",
            "Epoch 33/150\n",
            "123/123 [==============================] - 0s 4ms/step - loss: 1.1079 - sparse_top_k_categorical_accuracy: 0.9189 - val_loss: 6.4121 - val_sparse_top_k_categorical_accuracy: 0.4812\n",
            "Epoch 34/150\n",
            "123/123 [==============================] - 0s 4ms/step - loss: 1.0712 - sparse_top_k_categorical_accuracy: 0.9250 - val_loss: 6.5263 - val_sparse_top_k_categorical_accuracy: 0.4852\n",
            "Epoch 35/150\n",
            "123/123 [==============================] - 0s 4ms/step - loss: 1.0346 - sparse_top_k_categorical_accuracy: 0.9316 - val_loss: 6.3982 - val_sparse_top_k_categorical_accuracy: 0.5046\n",
            "Epoch 36/150\n",
            "123/123 [==============================] - 0s 4ms/step - loss: 1.0119 - sparse_top_k_categorical_accuracy: 0.9372 - val_loss: 6.7356 - val_sparse_top_k_categorical_accuracy: 0.4964\n",
            "Epoch 37/150\n",
            "123/123 [==============================] - 0s 4ms/step - loss: 0.9567 - sparse_top_k_categorical_accuracy: 0.9361 - val_loss: 6.6992 - val_sparse_top_k_categorical_accuracy: 0.4944\n",
            "Epoch 38/150\n",
            "123/123 [==============================] - 0s 4ms/step - loss: 0.9196 - sparse_top_k_categorical_accuracy: 0.9412 - val_loss: 6.8696 - val_sparse_top_k_categorical_accuracy: 0.4995\n",
            "Epoch 39/150\n",
            "123/123 [==============================] - 0s 4ms/step - loss: 0.8918 - sparse_top_k_categorical_accuracy: 0.9438 - val_loss: 7.1717 - val_sparse_top_k_categorical_accuracy: 0.4883\n",
            "Epoch 40/150\n",
            "123/123 [==============================] - 0s 4ms/step - loss: 0.8621 - sparse_top_k_categorical_accuracy: 0.9473 - val_loss: 7.3586 - val_sparse_top_k_categorical_accuracy: 0.4791\n",
            "Epoch 41/150\n",
            "123/123 [==============================] - 0s 4ms/step - loss: 0.8197 - sparse_top_k_categorical_accuracy: 0.9494 - val_loss: 7.3203 - val_sparse_top_k_categorical_accuracy: 0.4995\n",
            "Epoch 42/150\n",
            "123/123 [==============================] - 0s 4ms/step - loss: 0.7958 - sparse_top_k_categorical_accuracy: 0.9517 - val_loss: 7.4127 - val_sparse_top_k_categorical_accuracy: 0.4852\n",
            "Epoch 43/150\n",
            "123/123 [==============================] - 0s 4ms/step - loss: 0.7620 - sparse_top_k_categorical_accuracy: 0.9550 - val_loss: 7.5920 - val_sparse_top_k_categorical_accuracy: 0.4873\n",
            "Epoch 44/150\n",
            "123/123 [==============================] - 0s 4ms/step - loss: 0.7305 - sparse_top_k_categorical_accuracy: 0.9603 - val_loss: 7.7646 - val_sparse_top_k_categorical_accuracy: 0.4914\n",
            "Epoch 45/150\n",
            "123/123 [==============================] - 0s 4ms/step - loss: 0.7330 - sparse_top_k_categorical_accuracy: 0.9611 - val_loss: 7.7125 - val_sparse_top_k_categorical_accuracy: 0.4914\n",
            "Epoch 46/150\n",
            "123/123 [==============================] - 0s 4ms/step - loss: 0.7059 - sparse_top_k_categorical_accuracy: 0.9639 - val_loss: 7.8872 - val_sparse_top_k_categorical_accuracy: 0.4934\n",
            "Epoch 47/150\n",
            "123/123 [==============================] - 0s 4ms/step - loss: 0.7029 - sparse_top_k_categorical_accuracy: 0.9649 - val_loss: 8.0856 - val_sparse_top_k_categorical_accuracy: 0.4893\n",
            "Epoch 48/150\n",
            "123/123 [==============================] - 0s 4ms/step - loss: 0.6656 - sparse_top_k_categorical_accuracy: 0.9672 - val_loss: 8.1373 - val_sparse_top_k_categorical_accuracy: 0.4873\n",
            "Epoch 49/150\n",
            "123/123 [==============================] - 0s 4ms/step - loss: 0.6367 - sparse_top_k_categorical_accuracy: 0.9682 - val_loss: 8.2966 - val_sparse_top_k_categorical_accuracy: 0.4964\n",
            "Epoch 50/150\n",
            "123/123 [==============================] - 0s 4ms/step - loss: 0.6050 - sparse_top_k_categorical_accuracy: 0.9695 - val_loss: 8.3631 - val_sparse_top_k_categorical_accuracy: 0.4995\n",
            "Epoch 51/150\n",
            "123/123 [==============================] - 0s 4ms/step - loss: 0.5936 - sparse_top_k_categorical_accuracy: 0.9733 - val_loss: 8.6410 - val_sparse_top_k_categorical_accuracy: 0.4832\n",
            "Epoch 52/150\n",
            "123/123 [==============================] - 0s 4ms/step - loss: 0.5765 - sparse_top_k_categorical_accuracy: 0.9741 - val_loss: 8.7908 - val_sparse_top_k_categorical_accuracy: 0.4903\n",
            "Epoch 53/150\n",
            "123/123 [==============================] - 0s 4ms/step - loss: 0.5808 - sparse_top_k_categorical_accuracy: 0.9743 - val_loss: 8.6991 - val_sparse_top_k_categorical_accuracy: 0.4852\n",
            "Epoch 54/150\n",
            "123/123 [==============================] - 0s 4ms/step - loss: 0.5520 - sparse_top_k_categorical_accuracy: 0.9763 - val_loss: 8.7912 - val_sparse_top_k_categorical_accuracy: 0.4975\n",
            "Epoch 55/150\n",
            "123/123 [==============================] - 0s 4ms/step - loss: 0.5348 - sparse_top_k_categorical_accuracy: 0.9774 - val_loss: 8.9623 - val_sparse_top_k_categorical_accuracy: 0.4954\n",
            "Epoch 56/150\n",
            "123/123 [==============================] - 0s 4ms/step - loss: 0.5102 - sparse_top_k_categorical_accuracy: 0.9802 - val_loss: 9.0551 - val_sparse_top_k_categorical_accuracy: 0.4903\n",
            "Epoch 57/150\n",
            "123/123 [==============================] - 0s 4ms/step - loss: 0.4933 - sparse_top_k_categorical_accuracy: 0.9779 - val_loss: 9.2023 - val_sparse_top_k_categorical_accuracy: 0.4802\n",
            "Epoch 58/150\n",
            "123/123 [==============================] - 0s 4ms/step - loss: 0.4802 - sparse_top_k_categorical_accuracy: 0.9804 - val_loss: 9.4143 - val_sparse_top_k_categorical_accuracy: 0.4873\n",
            "Epoch 59/150\n",
            "123/123 [==============================] - 0s 4ms/step - loss: 0.4830 - sparse_top_k_categorical_accuracy: 0.9802 - val_loss: 9.5478 - val_sparse_top_k_categorical_accuracy: 0.4863\n",
            "Epoch 60/150\n",
            "123/123 [==============================] - 0s 4ms/step - loss: 0.4570 - sparse_top_k_categorical_accuracy: 0.9842 - val_loss: 9.6780 - val_sparse_top_k_categorical_accuracy: 0.4893\n",
            "Epoch 61/150\n",
            "123/123 [==============================] - 0s 4ms/step - loss: 0.4328 - sparse_top_k_categorical_accuracy: 0.9832 - val_loss: 9.8012 - val_sparse_top_k_categorical_accuracy: 0.4873\n",
            "Epoch 62/150\n",
            "123/123 [==============================] - 0s 4ms/step - loss: 0.4540 - sparse_top_k_categorical_accuracy: 0.9845 - val_loss: 9.9194 - val_sparse_top_k_categorical_accuracy: 0.4812\n",
            "Epoch 63/150\n",
            "123/123 [==============================] - 0s 4ms/step - loss: 0.4460 - sparse_top_k_categorical_accuracy: 0.9840 - val_loss: 9.9156 - val_sparse_top_k_categorical_accuracy: 0.4985\n",
            "Epoch 64/150\n",
            "123/123 [==============================] - 0s 4ms/step - loss: 0.4956 - sparse_top_k_categorical_accuracy: 0.9863 - val_loss: 9.9277 - val_sparse_top_k_categorical_accuracy: 0.4842\n",
            "Epoch 65/150\n",
            "123/123 [==============================] - 0s 4ms/step - loss: 0.4524 - sparse_top_k_categorical_accuracy: 0.9868 - val_loss: 10.2423 - val_sparse_top_k_categorical_accuracy: 0.4924\n",
            "Epoch 66/150\n",
            "123/123 [==============================] - 0s 4ms/step - loss: 0.4138 - sparse_top_k_categorical_accuracy: 0.9883 - val_loss: 10.1679 - val_sparse_top_k_categorical_accuracy: 0.4964\n",
            "Epoch 67/150\n",
            "123/123 [==============================] - 0s 4ms/step - loss: 0.4097 - sparse_top_k_categorical_accuracy: 0.9878 - val_loss: 10.2274 - val_sparse_top_k_categorical_accuracy: 0.4995\n",
            "Epoch 68/150\n",
            "123/123 [==============================] - 0s 4ms/step - loss: 0.3789 - sparse_top_k_categorical_accuracy: 0.9886 - val_loss: 10.4548 - val_sparse_top_k_categorical_accuracy: 0.5025\n",
            "Epoch 69/150\n",
            "123/123 [==============================] - 0s 4ms/step - loss: 0.3557 - sparse_top_k_categorical_accuracy: 0.9898 - val_loss: 10.5236 - val_sparse_top_k_categorical_accuracy: 0.4975\n",
            "Epoch 70/150\n",
            "123/123 [==============================] - 0s 4ms/step - loss: 0.3611 - sparse_top_k_categorical_accuracy: 0.9893 - val_loss: 10.6441 - val_sparse_top_k_categorical_accuracy: 0.4964\n",
            "Epoch 71/150\n",
            "123/123 [==============================] - 0s 4ms/step - loss: 0.3351 - sparse_top_k_categorical_accuracy: 0.9898 - val_loss: 10.6630 - val_sparse_top_k_categorical_accuracy: 0.4954\n",
            "Epoch 72/150\n",
            "123/123 [==============================] - 0s 4ms/step - loss: 0.3368 - sparse_top_k_categorical_accuracy: 0.9919 - val_loss: 10.6923 - val_sparse_top_k_categorical_accuracy: 0.5046\n",
            "Epoch 73/150\n",
            "123/123 [==============================] - 0s 4ms/step - loss: 0.3250 - sparse_top_k_categorical_accuracy: 0.9916 - val_loss: 10.7704 - val_sparse_top_k_categorical_accuracy: 0.5097\n",
            "Epoch 74/150\n",
            "123/123 [==============================] - 0s 4ms/step - loss: 0.3083 - sparse_top_k_categorical_accuracy: 0.9926 - val_loss: 10.9882 - val_sparse_top_k_categorical_accuracy: 0.5046\n",
            "Epoch 75/150\n",
            "123/123 [==============================] - 0s 4ms/step - loss: 0.2996 - sparse_top_k_categorical_accuracy: 0.9916 - val_loss: 11.1774 - val_sparse_top_k_categorical_accuracy: 0.5127\n",
            "Epoch 76/150\n",
            "123/123 [==============================] - 0s 4ms/step - loss: 0.3123 - sparse_top_k_categorical_accuracy: 0.9901 - val_loss: 11.2107 - val_sparse_top_k_categorical_accuracy: 0.5086\n",
            "Epoch 77/150\n",
            "123/123 [==============================] - 0s 4ms/step - loss: 0.3007 - sparse_top_k_categorical_accuracy: 0.9924 - val_loss: 11.2433 - val_sparse_top_k_categorical_accuracy: 0.5015\n",
            "Epoch 78/150\n",
            "123/123 [==============================] - 0s 4ms/step - loss: 0.3202 - sparse_top_k_categorical_accuracy: 0.9929 - val_loss: 11.4001 - val_sparse_top_k_categorical_accuracy: 0.4985\n",
            "Epoch 79/150\n",
            "123/123 [==============================] - 0s 4ms/step - loss: 0.4313 - sparse_top_k_categorical_accuracy: 0.9929 - val_loss: 11.7711 - val_sparse_top_k_categorical_accuracy: 0.4883\n",
            "Epoch 80/150\n",
            "123/123 [==============================] - 0s 4ms/step - loss: 0.4172 - sparse_top_k_categorical_accuracy: 0.9919 - val_loss: 11.5981 - val_sparse_top_k_categorical_accuracy: 0.4924\n",
            "Epoch 81/150\n",
            "123/123 [==============================] - 0s 4ms/step - loss: 0.3250 - sparse_top_k_categorical_accuracy: 0.9944 - val_loss: 11.6450 - val_sparse_top_k_categorical_accuracy: 0.4985\n",
            "Epoch 82/150\n",
            "123/123 [==============================] - 0s 4ms/step - loss: 0.2850 - sparse_top_k_categorical_accuracy: 0.9947 - val_loss: 11.6918 - val_sparse_top_k_categorical_accuracy: 0.5076\n",
            "Epoch 83/150\n",
            "123/123 [==============================] - 0s 4ms/step - loss: 0.2679 - sparse_top_k_categorical_accuracy: 0.9947 - val_loss: 11.8253 - val_sparse_top_k_categorical_accuracy: 0.5127\n",
            "Epoch 84/150\n",
            "123/123 [==============================] - 1s 4ms/step - loss: 0.2557 - sparse_top_k_categorical_accuracy: 0.9952 - val_loss: 11.9079 - val_sparse_top_k_categorical_accuracy: 0.5086\n",
            "Epoch 85/150\n",
            "123/123 [==============================] - 1s 4ms/step - loss: 0.2439 - sparse_top_k_categorical_accuracy: 0.9967 - val_loss: 11.7494 - val_sparse_top_k_categorical_accuracy: 0.5036\n",
            "Epoch 86/150\n",
            "123/123 [==============================] - 0s 4ms/step - loss: 0.2366 - sparse_top_k_categorical_accuracy: 0.9952 - val_loss: 12.0093 - val_sparse_top_k_categorical_accuracy: 0.5097\n",
            "Epoch 87/150\n",
            "123/123 [==============================] - 0s 4ms/step - loss: 0.2292 - sparse_top_k_categorical_accuracy: 0.9952 - val_loss: 12.2751 - val_sparse_top_k_categorical_accuracy: 0.5107\n",
            "Epoch 88/150\n",
            "123/123 [==============================] - 0s 4ms/step - loss: 0.2291 - sparse_top_k_categorical_accuracy: 0.9959 - val_loss: 12.2139 - val_sparse_top_k_categorical_accuracy: 0.5137\n",
            "Epoch 89/150\n",
            "123/123 [==============================] - 0s 4ms/step - loss: 0.2179 - sparse_top_k_categorical_accuracy: 0.9967 - val_loss: 12.4037 - val_sparse_top_k_categorical_accuracy: 0.5086\n",
            "Epoch 90/150\n",
            "123/123 [==============================] - 1s 4ms/step - loss: 0.2278 - sparse_top_k_categorical_accuracy: 0.9972 - val_loss: 12.5523 - val_sparse_top_k_categorical_accuracy: 0.5107\n",
            "Epoch 91/150\n",
            "123/123 [==============================] - 0s 4ms/step - loss: 0.2259 - sparse_top_k_categorical_accuracy: 0.9962 - val_loss: 12.5694 - val_sparse_top_k_categorical_accuracy: 0.5046\n",
            "Epoch 92/150\n",
            "123/123 [==============================] - 1s 4ms/step - loss: 0.2798 - sparse_top_k_categorical_accuracy: 0.9959 - val_loss: 12.5892 - val_sparse_top_k_categorical_accuracy: 0.5086\n",
            "Epoch 93/150\n",
            "123/123 [==============================] - 1s 4ms/step - loss: 0.3579 - sparse_top_k_categorical_accuracy: 0.9962 - val_loss: 12.7159 - val_sparse_top_k_categorical_accuracy: 0.5056\n",
            "Epoch 94/150\n",
            "123/123 [==============================] - 1s 4ms/step - loss: 0.3584 - sparse_top_k_categorical_accuracy: 0.9967 - val_loss: 12.3951 - val_sparse_top_k_categorical_accuracy: 0.5219\n",
            "Epoch 95/150\n",
            "123/123 [==============================] - 0s 4ms/step - loss: 0.2595 - sparse_top_k_categorical_accuracy: 0.9964 - val_loss: 12.9939 - val_sparse_top_k_categorical_accuracy: 0.5219\n",
            "Epoch 96/150\n",
            "123/123 [==============================] - 1s 4ms/step - loss: 0.2180 - sparse_top_k_categorical_accuracy: 0.9964 - val_loss: 12.9117 - val_sparse_top_k_categorical_accuracy: 0.5086\n",
            "Epoch 97/150\n",
            "123/123 [==============================] - 0s 4ms/step - loss: 0.1997 - sparse_top_k_categorical_accuracy: 0.9975 - val_loss: 13.0868 - val_sparse_top_k_categorical_accuracy: 0.5137\n",
            "Epoch 98/150\n",
            "123/123 [==============================] - 0s 4ms/step - loss: 0.1888 - sparse_top_k_categorical_accuracy: 0.9980 - val_loss: 13.2493 - val_sparse_top_k_categorical_accuracy: 0.5076\n",
            "Epoch 99/150\n",
            "123/123 [==============================] - 0s 4ms/step - loss: 0.1818 - sparse_top_k_categorical_accuracy: 0.9985 - val_loss: 13.3505 - val_sparse_top_k_categorical_accuracy: 0.5117\n",
            "Epoch 100/150\n",
            "123/123 [==============================] - 0s 4ms/step - loss: 0.1771 - sparse_top_k_categorical_accuracy: 0.9990 - val_loss: 13.2925 - val_sparse_top_k_categorical_accuracy: 0.5025\n",
            "Epoch 101/150\n",
            "123/123 [==============================] - 0s 4ms/step - loss: 0.1746 - sparse_top_k_categorical_accuracy: 0.9985 - val_loss: 13.4263 - val_sparse_top_k_categorical_accuracy: 0.5097\n",
            "Epoch 102/150\n",
            "123/123 [==============================] - 0s 4ms/step - loss: 0.1745 - sparse_top_k_categorical_accuracy: 0.9985 - val_loss: 13.4209 - val_sparse_top_k_categorical_accuracy: 0.5117\n",
            "Epoch 103/150\n",
            "123/123 [==============================] - 0s 4ms/step - loss: 0.1934 - sparse_top_k_categorical_accuracy: 0.9985 - val_loss: 13.3793 - val_sparse_top_k_categorical_accuracy: 0.5076\n",
            "Epoch 104/150\n",
            "123/123 [==============================] - 0s 4ms/step - loss: 0.2069 - sparse_top_k_categorical_accuracy: 0.9990 - val_loss: 13.7385 - val_sparse_top_k_categorical_accuracy: 0.4985\n",
            "Epoch 105/150\n",
            "123/123 [==============================] - 0s 4ms/step - loss: 0.2240 - sparse_top_k_categorical_accuracy: 0.9980 - val_loss: 13.7898 - val_sparse_top_k_categorical_accuracy: 0.4975\n",
            "Epoch 106/150\n",
            "123/123 [==============================] - 0s 4ms/step - loss: 0.2568 - sparse_top_k_categorical_accuracy: 0.9990 - val_loss: 13.6772 - val_sparse_top_k_categorical_accuracy: 0.5066\n",
            "Epoch 107/150\n",
            "123/123 [==============================] - 0s 4ms/step - loss: 0.2814 - sparse_top_k_categorical_accuracy: 0.9985 - val_loss: 13.7154 - val_sparse_top_k_categorical_accuracy: 0.5025\n",
            "Epoch 108/150\n",
            "123/123 [==============================] - 0s 4ms/step - loss: 0.2815 - sparse_top_k_categorical_accuracy: 0.9987 - val_loss: 13.5956 - val_sparse_top_k_categorical_accuracy: 0.5097\n",
            "Epoch 109/150\n",
            "123/123 [==============================] - 0s 4ms/step - loss: 0.2355 - sparse_top_k_categorical_accuracy: 0.9990 - val_loss: 13.7294 - val_sparse_top_k_categorical_accuracy: 0.4995\n",
            "Epoch 110/150\n",
            "123/123 [==============================] - 0s 4ms/step - loss: 0.1961 - sparse_top_k_categorical_accuracy: 0.9990 - val_loss: 13.7588 - val_sparse_top_k_categorical_accuracy: 0.4944\n",
            "Epoch 111/150\n",
            "123/123 [==============================] - 0s 4ms/step - loss: 0.1514 - sparse_top_k_categorical_accuracy: 0.9997 - val_loss: 14.0190 - val_sparse_top_k_categorical_accuracy: 0.4954\n",
            "Epoch 112/150\n",
            "123/123 [==============================] - 0s 4ms/step - loss: 0.1461 - sparse_top_k_categorical_accuracy: 0.9997 - val_loss: 14.0944 - val_sparse_top_k_categorical_accuracy: 0.5046\n",
            "Epoch 113/150\n",
            "123/123 [==============================] - 0s 4ms/step - loss: 0.1440 - sparse_top_k_categorical_accuracy: 0.9992 - val_loss: 14.1634 - val_sparse_top_k_categorical_accuracy: 0.4975\n",
            "Epoch 114/150\n",
            "123/123 [==============================] - 0s 4ms/step - loss: 0.1401 - sparse_top_k_categorical_accuracy: 0.9995 - val_loss: 14.1949 - val_sparse_top_k_categorical_accuracy: 0.5015\n",
            "Epoch 115/150\n",
            "123/123 [==============================] - 0s 4ms/step - loss: 0.1408 - sparse_top_k_categorical_accuracy: 0.9995 - val_loss: 14.2444 - val_sparse_top_k_categorical_accuracy: 0.5056\n",
            "Epoch 116/150\n",
            "123/123 [==============================] - 0s 4ms/step - loss: 0.1388 - sparse_top_k_categorical_accuracy: 0.9997 - val_loss: 14.3288 - val_sparse_top_k_categorical_accuracy: 0.5036\n",
            "Epoch 117/150\n",
            "123/123 [==============================] - 0s 4ms/step - loss: 0.1339 - sparse_top_k_categorical_accuracy: 0.9997 - val_loss: 14.2066 - val_sparse_top_k_categorical_accuracy: 0.5137\n",
            "Epoch 118/150\n",
            "123/123 [==============================] - 0s 4ms/step - loss: 0.1325 - sparse_top_k_categorical_accuracy: 0.9995 - val_loss: 14.6254 - val_sparse_top_k_categorical_accuracy: 0.5066\n",
            "Epoch 119/150\n",
            "123/123 [==============================] - 0s 4ms/step - loss: 0.1367 - sparse_top_k_categorical_accuracy: 0.9987 - val_loss: 14.6230 - val_sparse_top_k_categorical_accuracy: 0.5086\n",
            "Epoch 120/150\n",
            "123/123 [==============================] - 0s 4ms/step - loss: 0.1419 - sparse_top_k_categorical_accuracy: 0.9997 - val_loss: 14.5824 - val_sparse_top_k_categorical_accuracy: 0.5036\n",
            "Epoch 121/150\n",
            "123/123 [==============================] - 0s 4ms/step - loss: 0.1883 - sparse_top_k_categorical_accuracy: 0.9992 - val_loss: 14.7624 - val_sparse_top_k_categorical_accuracy: 0.5076\n",
            "Epoch 122/150\n",
            "123/123 [==============================] - 0s 4ms/step - loss: 0.3091 - sparse_top_k_categorical_accuracy: 0.9997 - val_loss: 15.0994 - val_sparse_top_k_categorical_accuracy: 0.4822\n",
            "Epoch 123/150\n",
            "123/123 [==============================] - 0s 4ms/step - loss: 0.3015 - sparse_top_k_categorical_accuracy: 0.9987 - val_loss: 14.9241 - val_sparse_top_k_categorical_accuracy: 0.4934\n",
            "Epoch 124/150\n",
            "123/123 [==============================] - 0s 4ms/step - loss: 0.1952 - sparse_top_k_categorical_accuracy: 0.9995 - val_loss: 14.9748 - val_sparse_top_k_categorical_accuracy: 0.5036\n",
            "Epoch 125/150\n",
            "123/123 [==============================] - 0s 4ms/step - loss: 0.1567 - sparse_top_k_categorical_accuracy: 1.0000 - val_loss: 15.2016 - val_sparse_top_k_categorical_accuracy: 0.4903\n",
            "Epoch 126/150\n",
            "123/123 [==============================] - 1s 4ms/step - loss: 0.1385 - sparse_top_k_categorical_accuracy: 0.9990 - val_loss: 15.0488 - val_sparse_top_k_categorical_accuracy: 0.4954\n",
            "Epoch 127/150\n",
            "123/123 [==============================] - 1s 4ms/step - loss: 0.1431 - sparse_top_k_categorical_accuracy: 0.9992 - val_loss: 14.9436 - val_sparse_top_k_categorical_accuracy: 0.5148\n",
            "Epoch 128/150\n",
            "123/123 [==============================] - 0s 4ms/step - loss: 0.1233 - sparse_top_k_categorical_accuracy: 1.0000 - val_loss: 15.0582 - val_sparse_top_k_categorical_accuracy: 0.5137\n",
            "Epoch 129/150\n",
            "123/123 [==============================] - 0s 4ms/step - loss: 0.1101 - sparse_top_k_categorical_accuracy: 0.9995 - val_loss: 15.1693 - val_sparse_top_k_categorical_accuracy: 0.5086\n",
            "Epoch 130/150\n",
            "123/123 [==============================] - 0s 4ms/step - loss: 0.1056 - sparse_top_k_categorical_accuracy: 0.9997 - val_loss: 15.1681 - val_sparse_top_k_categorical_accuracy: 0.5025\n",
            "Epoch 131/150\n",
            "123/123 [==============================] - 0s 4ms/step - loss: 0.1071 - sparse_top_k_categorical_accuracy: 1.0000 - val_loss: 15.1800 - val_sparse_top_k_categorical_accuracy: 0.5158\n",
            "Epoch 132/150\n",
            "123/123 [==============================] - 0s 4ms/step - loss: 0.1167 - sparse_top_k_categorical_accuracy: 1.0000 - val_loss: 15.2238 - val_sparse_top_k_categorical_accuracy: 0.5097\n",
            "Epoch 133/150\n",
            "123/123 [==============================] - 0s 4ms/step - loss: 0.1205 - sparse_top_k_categorical_accuracy: 1.0000 - val_loss: 15.3250 - val_sparse_top_k_categorical_accuracy: 0.5127\n",
            "Epoch 134/150\n",
            "123/123 [==============================] - 0s 4ms/step - loss: 0.1110 - sparse_top_k_categorical_accuracy: 0.9995 - val_loss: 15.1566 - val_sparse_top_k_categorical_accuracy: 0.5076\n",
            "Epoch 135/150\n",
            "123/123 [==============================] - 0s 4ms/step - loss: 0.1346 - sparse_top_k_categorical_accuracy: 1.0000 - val_loss: 15.6637 - val_sparse_top_k_categorical_accuracy: 0.4985\n",
            "Epoch 136/150\n",
            "123/123 [==============================] - 0s 4ms/step - loss: 0.1512 - sparse_top_k_categorical_accuracy: 1.0000 - val_loss: 15.5765 - val_sparse_top_k_categorical_accuracy: 0.5097\n",
            "Epoch 137/150\n",
            "123/123 [==============================] - 0s 4ms/step - loss: 0.2161 - sparse_top_k_categorical_accuracy: 0.9997 - val_loss: 15.6264 - val_sparse_top_k_categorical_accuracy: 0.4964\n",
            "Epoch 138/150\n",
            "123/123 [==============================] - 0s 4ms/step - loss: 0.2831 - sparse_top_k_categorical_accuracy: 0.9995 - val_loss: 15.9609 - val_sparse_top_k_categorical_accuracy: 0.5025\n",
            "Epoch 139/150\n",
            "123/123 [==============================] - 0s 4ms/step - loss: 0.1969 - sparse_top_k_categorical_accuracy: 0.9995 - val_loss: 15.6007 - val_sparse_top_k_categorical_accuracy: 0.4995\n",
            "Epoch 140/150\n",
            "123/123 [==============================] - 0s 4ms/step - loss: 0.1212 - sparse_top_k_categorical_accuracy: 1.0000 - val_loss: 15.7716 - val_sparse_top_k_categorical_accuracy: 0.5107\n",
            "Epoch 141/150\n",
            "123/123 [==============================] - 0s 4ms/step - loss: 0.1075 - sparse_top_k_categorical_accuracy: 1.0000 - val_loss: 15.9361 - val_sparse_top_k_categorical_accuracy: 0.5239\n",
            "Epoch 142/150\n",
            "123/123 [==============================] - 0s 4ms/step - loss: 0.0917 - sparse_top_k_categorical_accuracy: 0.9995 - val_loss: 15.8819 - val_sparse_top_k_categorical_accuracy: 0.5117\n",
            "Epoch 143/150\n",
            "123/123 [==============================] - 0s 4ms/step - loss: 0.0904 - sparse_top_k_categorical_accuracy: 1.0000 - val_loss: 15.8916 - val_sparse_top_k_categorical_accuracy: 0.5148\n",
            "Epoch 144/150\n",
            "123/123 [==============================] - 0s 4ms/step - loss: 0.0951 - sparse_top_k_categorical_accuracy: 0.9995 - val_loss: 15.9366 - val_sparse_top_k_categorical_accuracy: 0.5137\n",
            "Epoch 145/150\n",
            "123/123 [==============================] - 0s 4ms/step - loss: 0.0834 - sparse_top_k_categorical_accuracy: 1.0000 - val_loss: 16.0806 - val_sparse_top_k_categorical_accuracy: 0.5066\n",
            "Epoch 146/150\n",
            "123/123 [==============================] - 0s 4ms/step - loss: 0.0972 - sparse_top_k_categorical_accuracy: 1.0000 - val_loss: 16.0741 - val_sparse_top_k_categorical_accuracy: 0.4985\n",
            "Epoch 147/150\n",
            "123/123 [==============================] - 0s 4ms/step - loss: 0.0953 - sparse_top_k_categorical_accuracy: 0.9997 - val_loss: 16.5996 - val_sparse_top_k_categorical_accuracy: 0.5086\n",
            "Epoch 148/150\n",
            "123/123 [==============================] - 0s 4ms/step - loss: 0.0948 - sparse_top_k_categorical_accuracy: 0.9997 - val_loss: 16.4077 - val_sparse_top_k_categorical_accuracy: 0.5046\n",
            "Epoch 149/150\n",
            "123/123 [==============================] - 0s 4ms/step - loss: 0.1003 - sparse_top_k_categorical_accuracy: 0.9997 - val_loss: 16.5766 - val_sparse_top_k_categorical_accuracy: 0.5046\n",
            "Epoch 150/150\n",
            "123/123 [==============================] - 0s 4ms/step - loss: 0.1088 - sparse_top_k_categorical_accuracy: 0.9997 - val_loss: 16.6746 - val_sparse_top_k_categorical_accuracy: 0.5107\n",
            "31/31 [==============================] - 0s 2ms/step - loss: 15.9361 - sparse_top_k_categorical_accuracy: 0.5239\n",
            "Test accuracy: 0.523906409740448\n"
          ]
        }
      ],
      "source": [
        "# Building the 1D CNN Model\n",
        "model = Sequential([\n",
        "    Conv1D(64, kernel_size=4, activation='relu', input_shape=(15, 150)),\n",
        "    MaxPooling1D(pool_size=3),\n",
        "    Flatten(),\n",
        "    Dense(128, activation='relu'),\n",
        "    Dense(len(label_encoder.classes_), activation='softmax')\n",
        "])\n",
        "checkpoint_filepath = '/content/1dcheckpoint.weights.h5'\n",
        "topk = tf.keras.metrics.SparseTopKCategoricalAccuracy(k=10)\n",
        "mcp_save = ModelCheckpoint(checkpoint_filepath, save_best_only=True, save_weights_only=True, monitor='val_'+topk.name, mode='max')\n",
        "\n",
        "# Compile and Train\n",
        "model.compile(optimizer='adam',\n",
        "              loss='sparse_categorical_crossentropy',\n",
        "              metrics= [topk]\n",
        "              )\n",
        "\n",
        "model.fit(X_train, y_train_encoded, epochs=150, batch_size=32, validation_data=(X_test, y_test_encoded), callbacks=[mcp_save])\n",
        "\n",
        "# Load best model & Evaluate\n",
        "model.load_weights(checkpoint_filepath)\n",
        "test_loss, test_acc = model.evaluate(X_test, y_test_encoded)\n",
        "print(f'Test accuracy: {test_acc}')"
      ]
    },
    {
      "cell_type": "code",
      "source": [
        "model.save('mediapipe_spectral_1dcnn')\n",
        "reconstructed_model = load_model(\"mediapipe_spectral_1dcnn\")\n",
        "test_loss, test_acc = reconstructed_model.evaluate(X_test, y_test_encoded)\n",
        "print(f'Test accuracy: {test_acc}')"
      ],
      "metadata": {
        "colab": {
          "base_uri": "https://localhost:8080/"
        },
        "id": "o0ge0gCKHtad",
        "outputId": "18bee774-15b0-46a2-960a-0019caa1cf73"
      },
      "execution_count": 36,
      "outputs": [
        {
          "output_type": "stream",
          "name": "stdout",
          "text": [
            "31/31 [==============================] - 0s 2ms/step - loss: 15.9361 - sparse_top_k_categorical_accuracy: 0.5239\n",
            "Test accuracy: 0.523906409740448\n"
          ]
        }
      ]
    },
    {
      "cell_type": "code",
      "source": [
        "!cp /content/1dcheckpoint.weights.h5 /content/drive/MyDrive/ml_project/1dcheckpoint.weights.h5\n",
        "!cp -r /content/mediapipe_spectral_1dcnn /content/drive/MyDrive/ml_project/mediapipe_spectral_1dcnn"
      ],
      "metadata": {
        "id": "2CZyRq_iLIMj"
      },
      "execution_count": 39,
      "outputs": []
    },
    {
      "cell_type": "markdown",
      "source": [
        "### Stacked BiLSTM"
      ],
      "metadata": {
        "id": "zFwF6fXOGZ1O"
      }
    },
    {
      "cell_type": "code",
      "source": [
        "# Building the Stacked BiLSTM Model\n",
        "model = Sequential([\n",
        "    Bidirectional(LSTM(128, return_sequences=True), input_shape=(15, 150)),\n",
        "    Dropout(0.1),\n",
        "    Bidirectional(LSTM(64, return_sequences=True)),\n",
        "    Dropout(0.1),\n",
        "    Bidirectional(LSTM(64, return_sequences=True)),\n",
        "    Bidirectional(LSTM(32, return_sequences=True)),\n",
        "    Bidirectional(LSTM(16, return_sequences=True)),\n",
        "    Flatten(),\n",
        "    Dense(1000, activation='relu'),\n",
        "    Dense(len(label_encoder.classes_), activation='softmax')\n",
        "])\n",
        "\n",
        "\n",
        "checkpoint_filepath = '/content/bilstmcheckpoint.weights.h5'\n",
        "topk = tf.keras.metrics.SparseTopKCategoricalAccuracy(k=10)\n",
        "mcp_save = ModelCheckpoint(checkpoint_filepath, save_best_only=True, save_weights_only=True, monitor='val_'+topk.name, mode='max')\n",
        "\n",
        "# Compile and Train\n",
        "model.compile(optimizer='adam',\n",
        "              loss='sparse_categorical_crossentropy',\n",
        "              metrics= [topk]\n",
        "              )\n",
        "\n",
        "model.fit(X_train, y_train_encoded, epochs=100, batch_size=32, validation_data=(X_test, y_test_encoded), callbacks=[mcp_save])\n",
        "\n",
        "# Load best model & Evaluate\n",
        "model.load_weights(checkpoint_filepath)\n",
        "test_loss, test_acc = model.evaluate(X_test, y_test_encoded)\n",
        "print(f'Test accuracy: {test_acc}')"
      ],
      "metadata": {
        "colab": {
          "base_uri": "https://localhost:8080/"
        },
        "id": "zgexDkBdigIY",
        "outputId": "a9db2e75-71e3-406d-c611-935a60319724"
      },
      "execution_count": 41,
      "outputs": [
        {
          "output_type": "stream",
          "name": "stdout",
          "text": [
            "Epoch 1/100\n",
            "123/123 [==============================] - 20s 53ms/step - loss: 5.1668 - sparse_top_k_categorical_accuracy: 0.0781 - val_loss: 5.0281 - val_sparse_top_k_categorical_accuracy: 0.0783\n",
            "Epoch 2/100\n",
            "123/123 [==============================] - 2s 18ms/step - loss: 4.9585 - sparse_top_k_categorical_accuracy: 0.0865 - val_loss: 4.9989 - val_sparse_top_k_categorical_accuracy: 0.0722\n",
            "Epoch 3/100\n",
            "123/123 [==============================] - 2s 19ms/step - loss: 4.9095 - sparse_top_k_categorical_accuracy: 0.0974 - val_loss: 4.9597 - val_sparse_top_k_categorical_accuracy: 0.0824\n",
            "Epoch 4/100\n",
            "123/123 [==============================] - 2s 19ms/step - loss: 4.8615 - sparse_top_k_categorical_accuracy: 0.1112 - val_loss: 4.9464 - val_sparse_top_k_categorical_accuracy: 0.0916\n",
            "Epoch 5/100\n",
            "123/123 [==============================] - 2s 19ms/step - loss: 4.8345 - sparse_top_k_categorical_accuracy: 0.1175 - val_loss: 4.9263 - val_sparse_top_k_categorical_accuracy: 0.1190\n",
            "Epoch 6/100\n",
            "123/123 [==============================] - 2s 18ms/step - loss: 4.7849 - sparse_top_k_categorical_accuracy: 0.1430 - val_loss: 4.9054 - val_sparse_top_k_categorical_accuracy: 0.1241\n",
            "Epoch 7/100\n",
            "123/123 [==============================] - 2s 19ms/step - loss: 4.7242 - sparse_top_k_categorical_accuracy: 0.1554 - val_loss: 4.8887 - val_sparse_top_k_categorical_accuracy: 0.1251\n",
            "Epoch 8/100\n",
            "123/123 [==============================] - 2s 19ms/step - loss: 4.6393 - sparse_top_k_categorical_accuracy: 0.1880 - val_loss: 4.7856 - val_sparse_top_k_categorical_accuracy: 0.1760\n",
            "Epoch 9/100\n",
            "123/123 [==============================] - 2s 20ms/step - loss: 4.5424 - sparse_top_k_categorical_accuracy: 0.2213 - val_loss: 4.7817 - val_sparse_top_k_categorical_accuracy: 0.1872\n",
            "Epoch 10/100\n",
            "123/123 [==============================] - 2s 20ms/step - loss: 4.4519 - sparse_top_k_categorical_accuracy: 0.2638 - val_loss: 4.6875 - val_sparse_top_k_categorical_accuracy: 0.2146\n",
            "Epoch 11/100\n",
            "123/123 [==============================] - 2s 19ms/step - loss: 4.3081 - sparse_top_k_categorical_accuracy: 0.3012 - val_loss: 4.6341 - val_sparse_top_k_categorical_accuracy: 0.2462\n",
            "Epoch 12/100\n",
            "123/123 [==============================] - 2s 18ms/step - loss: 4.1859 - sparse_top_k_categorical_accuracy: 0.3442 - val_loss: 4.5507 - val_sparse_top_k_categorical_accuracy: 0.2991\n",
            "Epoch 13/100\n",
            "123/123 [==============================] - 2s 18ms/step - loss: 3.9924 - sparse_top_k_categorical_accuracy: 0.4035 - val_loss: 4.4981 - val_sparse_top_k_categorical_accuracy: 0.3154\n",
            "Epoch 14/100\n",
            "123/123 [==============================] - 2s 19ms/step - loss: 3.7988 - sparse_top_k_categorical_accuracy: 0.4635 - val_loss: 4.5244 - val_sparse_top_k_categorical_accuracy: 0.3530\n",
            "Epoch 15/100\n",
            "123/123 [==============================] - 2s 19ms/step - loss: 3.5719 - sparse_top_k_categorical_accuracy: 0.5281 - val_loss: 4.3761 - val_sparse_top_k_categorical_accuracy: 0.4232\n",
            "Epoch 16/100\n",
            "123/123 [==============================] - 2s 19ms/step - loss: 3.2712 - sparse_top_k_categorical_accuracy: 0.5787 - val_loss: 4.3998 - val_sparse_top_k_categorical_accuracy: 0.4222\n",
            "Epoch 17/100\n",
            "123/123 [==============================] - 2s 19ms/step - loss: 3.0326 - sparse_top_k_categorical_accuracy: 0.6149 - val_loss: 4.1741 - val_sparse_top_k_categorical_accuracy: 0.4842\n",
            "Epoch 18/100\n",
            "123/123 [==============================] - 2s 18ms/step - loss: 2.7177 - sparse_top_k_categorical_accuracy: 0.6769 - val_loss: 4.1373 - val_sparse_top_k_categorical_accuracy: 0.5025\n",
            "Epoch 19/100\n",
            "123/123 [==============================] - 2s 19ms/step - loss: 2.5141 - sparse_top_k_categorical_accuracy: 0.7059 - val_loss: 4.0669 - val_sparse_top_k_categorical_accuracy: 0.5249\n",
            "Epoch 20/100\n",
            "123/123 [==============================] - 2s 19ms/step - loss: 2.2843 - sparse_top_k_categorical_accuracy: 0.7316 - val_loss: 4.0868 - val_sparse_top_k_categorical_accuracy: 0.5331\n",
            "Epoch 21/100\n",
            "123/123 [==============================] - 2s 19ms/step - loss: 2.1149 - sparse_top_k_categorical_accuracy: 0.7688 - val_loss: 4.2332 - val_sparse_top_k_categorical_accuracy: 0.5371\n",
            "Epoch 22/100\n",
            "123/123 [==============================] - 2s 20ms/step - loss: 1.9653 - sparse_top_k_categorical_accuracy: 0.7914 - val_loss: 4.2115 - val_sparse_top_k_categorical_accuracy: 0.5646\n",
            "Epoch 23/100\n",
            "123/123 [==============================] - 2s 19ms/step - loss: 1.8618 - sparse_top_k_categorical_accuracy: 0.8148 - val_loss: 4.2224 - val_sparse_top_k_categorical_accuracy: 0.5819\n",
            "Epoch 24/100\n",
            "123/123 [==============================] - 2s 19ms/step - loss: 1.7340 - sparse_top_k_categorical_accuracy: 0.8316 - val_loss: 4.3087 - val_sparse_top_k_categorical_accuracy: 0.6083\n",
            "Epoch 25/100\n",
            "123/123 [==============================] - 2s 18ms/step - loss: 1.6344 - sparse_top_k_categorical_accuracy: 0.8601 - val_loss: 4.3191 - val_sparse_top_k_categorical_accuracy: 0.6144\n",
            "Epoch 26/100\n",
            "123/123 [==============================] - 2s 17ms/step - loss: 1.5551 - sparse_top_k_categorical_accuracy: 0.8756 - val_loss: 4.3547 - val_sparse_top_k_categorical_accuracy: 0.6104\n",
            "Epoch 27/100\n",
            "123/123 [==============================] - 2s 19ms/step - loss: 1.4146 - sparse_top_k_categorical_accuracy: 0.8970 - val_loss: 4.4079 - val_sparse_top_k_categorical_accuracy: 0.6205\n",
            "Epoch 28/100\n",
            "123/123 [==============================] - 3s 20ms/step - loss: 1.3134 - sparse_top_k_categorical_accuracy: 0.9127 - val_loss: 4.4043 - val_sparse_top_k_categorical_accuracy: 0.6358\n",
            "Epoch 29/100\n",
            "123/123 [==============================] - 2s 18ms/step - loss: 1.2304 - sparse_top_k_categorical_accuracy: 0.9288 - val_loss: 4.7489 - val_sparse_top_k_categorical_accuracy: 0.6236\n",
            "Epoch 30/100\n",
            "123/123 [==============================] - 2s 19ms/step - loss: 1.1382 - sparse_top_k_categorical_accuracy: 0.9364 - val_loss: 4.6839 - val_sparse_top_k_categorical_accuracy: 0.6562\n",
            "Epoch 31/100\n",
            "123/123 [==============================] - 2s 19ms/step - loss: 1.0005 - sparse_top_k_categorical_accuracy: 0.9519 - val_loss: 4.7573 - val_sparse_top_k_categorical_accuracy: 0.6684\n",
            "Epoch 32/100\n",
            "123/123 [==============================] - 2s 18ms/step - loss: 0.9898 - sparse_top_k_categorical_accuracy: 0.9606 - val_loss: 4.8171 - val_sparse_top_k_categorical_accuracy: 0.6501\n",
            "Epoch 33/100\n",
            "123/123 [==============================] - 2s 18ms/step - loss: 0.8739 - sparse_top_k_categorical_accuracy: 0.9646 - val_loss: 4.7137 - val_sparse_top_k_categorical_accuracy: 0.6541\n",
            "Epoch 34/100\n",
            "123/123 [==============================] - 2s 19ms/step - loss: 0.8095 - sparse_top_k_categorical_accuracy: 0.9723 - val_loss: 4.8851 - val_sparse_top_k_categorical_accuracy: 0.6470\n",
            "Epoch 35/100\n",
            "123/123 [==============================] - 2s 19ms/step - loss: 0.7288 - sparse_top_k_categorical_accuracy: 0.9779 - val_loss: 4.8680 - val_sparse_top_k_categorical_accuracy: 0.6724\n",
            "Epoch 36/100\n",
            "123/123 [==============================] - 2s 17ms/step - loss: 0.6771 - sparse_top_k_categorical_accuracy: 0.9827 - val_loss: 5.0434 - val_sparse_top_k_categorical_accuracy: 0.6663\n",
            "Epoch 37/100\n",
            "123/123 [==============================] - 2s 17ms/step - loss: 0.6291 - sparse_top_k_categorical_accuracy: 0.9852 - val_loss: 5.0420 - val_sparse_top_k_categorical_accuracy: 0.6643\n",
            "Epoch 38/100\n",
            "123/123 [==============================] - 2s 19ms/step - loss: 0.5706 - sparse_top_k_categorical_accuracy: 0.9903 - val_loss: 5.1804 - val_sparse_top_k_categorical_accuracy: 0.6755\n",
            "Epoch 39/100\n",
            "123/123 [==============================] - 2s 17ms/step - loss: 0.5196 - sparse_top_k_categorical_accuracy: 0.9898 - val_loss: 5.2465 - val_sparse_top_k_categorical_accuracy: 0.6653\n",
            "Epoch 40/100\n",
            "123/123 [==============================] - 2s 19ms/step - loss: 0.5407 - sparse_top_k_categorical_accuracy: 0.9924 - val_loss: 5.1692 - val_sparse_top_k_categorical_accuracy: 0.6592\n",
            "Epoch 41/100\n",
            "123/123 [==============================] - 2s 19ms/step - loss: 0.4920 - sparse_top_k_categorical_accuracy: 0.9921 - val_loss: 5.2142 - val_sparse_top_k_categorical_accuracy: 0.6643\n",
            "Epoch 42/100\n",
            "123/123 [==============================] - 2s 18ms/step - loss: 0.4149 - sparse_top_k_categorical_accuracy: 0.9947 - val_loss: 5.3908 - val_sparse_top_k_categorical_accuracy: 0.6673\n",
            "Epoch 43/100\n",
            "123/123 [==============================] - 2s 18ms/step - loss: 0.3882 - sparse_top_k_categorical_accuracy: 0.9959 - val_loss: 5.2529 - val_sparse_top_k_categorical_accuracy: 0.6816\n",
            "Epoch 44/100\n",
            "123/123 [==============================] - 2s 17ms/step - loss: 0.3647 - sparse_top_k_categorical_accuracy: 0.9969 - val_loss: 5.6552 - val_sparse_top_k_categorical_accuracy: 0.6663\n",
            "Epoch 45/100\n",
            "123/123 [==============================] - 2s 18ms/step - loss: 0.3051 - sparse_top_k_categorical_accuracy: 0.9969 - val_loss: 5.6442 - val_sparse_top_k_categorical_accuracy: 0.6734\n",
            "Epoch 46/100\n",
            "123/123 [==============================] - 2s 19ms/step - loss: 0.3072 - sparse_top_k_categorical_accuracy: 0.9972 - val_loss: 5.6888 - val_sparse_top_k_categorical_accuracy: 0.6714\n",
            "Epoch 47/100\n",
            "123/123 [==============================] - 2s 19ms/step - loss: 0.2688 - sparse_top_k_categorical_accuracy: 0.9977 - val_loss: 5.7360 - val_sparse_top_k_categorical_accuracy: 0.6755\n",
            "Epoch 48/100\n",
            "123/123 [==============================] - 2s 17ms/step - loss: 0.2784 - sparse_top_k_categorical_accuracy: 0.9967 - val_loss: 5.6856 - val_sparse_top_k_categorical_accuracy: 0.6704\n",
            "Epoch 49/100\n",
            "123/123 [==============================] - 2s 17ms/step - loss: 0.2217 - sparse_top_k_categorical_accuracy: 0.9980 - val_loss: 5.9004 - val_sparse_top_k_categorical_accuracy: 0.6612\n",
            "Epoch 50/100\n",
            "123/123 [==============================] - 2s 17ms/step - loss: 0.2228 - sparse_top_k_categorical_accuracy: 0.9987 - val_loss: 5.8445 - val_sparse_top_k_categorical_accuracy: 0.6724\n",
            "Epoch 51/100\n",
            "123/123 [==============================] - 2s 18ms/step - loss: 0.2337 - sparse_top_k_categorical_accuracy: 0.9977 - val_loss: 5.8314 - val_sparse_top_k_categorical_accuracy: 0.6836\n",
            "Epoch 52/100\n",
            "123/123 [==============================] - 2s 17ms/step - loss: 0.2456 - sparse_top_k_categorical_accuracy: 0.9995 - val_loss: 6.1245 - val_sparse_top_k_categorical_accuracy: 0.6673\n",
            "Epoch 53/100\n",
            "123/123 [==============================] - 2s 20ms/step - loss: 0.2242 - sparse_top_k_categorical_accuracy: 0.9992 - val_loss: 6.0468 - val_sparse_top_k_categorical_accuracy: 0.6633\n",
            "Epoch 54/100\n",
            "123/123 [==============================] - 2s 19ms/step - loss: 0.2184 - sparse_top_k_categorical_accuracy: 0.9992 - val_loss: 5.8657 - val_sparse_top_k_categorical_accuracy: 0.6673\n",
            "Epoch 55/100\n",
            "123/123 [==============================] - 2s 18ms/step - loss: 0.2494 - sparse_top_k_categorical_accuracy: 0.9982 - val_loss: 6.0220 - val_sparse_top_k_categorical_accuracy: 0.6704\n",
            "Epoch 56/100\n",
            "123/123 [==============================] - 2s 18ms/step - loss: 0.2515 - sparse_top_k_categorical_accuracy: 0.9975 - val_loss: 5.7253 - val_sparse_top_k_categorical_accuracy: 0.6612\n",
            "Epoch 57/100\n",
            "123/123 [==============================] - 2s 17ms/step - loss: 0.1873 - sparse_top_k_categorical_accuracy: 0.9995 - val_loss: 6.0479 - val_sparse_top_k_categorical_accuracy: 0.6643\n",
            "Epoch 58/100\n",
            "123/123 [==============================] - 2s 17ms/step - loss: 0.1698 - sparse_top_k_categorical_accuracy: 0.9987 - val_loss: 6.1209 - val_sparse_top_k_categorical_accuracy: 0.6806\n",
            "Epoch 59/100\n",
            "123/123 [==============================] - 2s 18ms/step - loss: 0.1603 - sparse_top_k_categorical_accuracy: 0.9992 - val_loss: 6.4256 - val_sparse_top_k_categorical_accuracy: 0.6562\n",
            "Epoch 60/100\n",
            "123/123 [==============================] - 2s 19ms/step - loss: 0.1456 - sparse_top_k_categorical_accuracy: 0.9987 - val_loss: 6.1732 - val_sparse_top_k_categorical_accuracy: 0.6582\n",
            "Epoch 61/100\n",
            "123/123 [==============================] - 2s 17ms/step - loss: 0.1686 - sparse_top_k_categorical_accuracy: 0.9995 - val_loss: 6.0190 - val_sparse_top_k_categorical_accuracy: 0.6663\n",
            "Epoch 62/100\n",
            "123/123 [==============================] - 2s 17ms/step - loss: 0.1514 - sparse_top_k_categorical_accuracy: 0.9992 - val_loss: 6.4449 - val_sparse_top_k_categorical_accuracy: 0.6633\n",
            "Epoch 63/100\n",
            "123/123 [==============================] - 2s 17ms/step - loss: 0.1467 - sparse_top_k_categorical_accuracy: 0.9995 - val_loss: 6.1755 - val_sparse_top_k_categorical_accuracy: 0.6663\n",
            "Epoch 64/100\n",
            "123/123 [==============================] - 2s 17ms/step - loss: 0.1456 - sparse_top_k_categorical_accuracy: 1.0000 - val_loss: 6.2416 - val_sparse_top_k_categorical_accuracy: 0.6745\n",
            "Epoch 65/100\n",
            "123/123 [==============================] - 2s 18ms/step - loss: 0.2044 - sparse_top_k_categorical_accuracy: 0.9990 - val_loss: 5.9950 - val_sparse_top_k_categorical_accuracy: 0.6633\n",
            "Epoch 66/100\n",
            "123/123 [==============================] - 2s 19ms/step - loss: 0.1940 - sparse_top_k_categorical_accuracy: 0.9995 - val_loss: 6.1673 - val_sparse_top_k_categorical_accuracy: 0.6511\n",
            "Epoch 67/100\n",
            "123/123 [==============================] - 2s 18ms/step - loss: 0.1964 - sparse_top_k_categorical_accuracy: 0.9990 - val_loss: 5.9878 - val_sparse_top_k_categorical_accuracy: 0.6612\n",
            "Epoch 68/100\n",
            "123/123 [==============================] - 2s 18ms/step - loss: 0.1972 - sparse_top_k_categorical_accuracy: 0.9995 - val_loss: 5.9752 - val_sparse_top_k_categorical_accuracy: 0.6612\n",
            "Epoch 69/100\n",
            "123/123 [==============================] - 2s 18ms/step - loss: 0.2118 - sparse_top_k_categorical_accuracy: 0.9997 - val_loss: 6.1730 - val_sparse_top_k_categorical_accuracy: 0.6633\n",
            "Epoch 70/100\n",
            "123/123 [==============================] - 2s 17ms/step - loss: 0.1680 - sparse_top_k_categorical_accuracy: 0.9995 - val_loss: 6.1435 - val_sparse_top_k_categorical_accuracy: 0.6704\n",
            "Epoch 71/100\n",
            "123/123 [==============================] - 2s 17ms/step - loss: 0.1219 - sparse_top_k_categorical_accuracy: 0.9997 - val_loss: 6.5572 - val_sparse_top_k_categorical_accuracy: 0.6724\n",
            "Epoch 72/100\n",
            "123/123 [==============================] - 2s 18ms/step - loss: 0.1166 - sparse_top_k_categorical_accuracy: 1.0000 - val_loss: 6.4815 - val_sparse_top_k_categorical_accuracy: 0.6653\n",
            "Epoch 73/100\n",
            "123/123 [==============================] - 2s 19ms/step - loss: 0.1296 - sparse_top_k_categorical_accuracy: 1.0000 - val_loss: 6.7699 - val_sparse_top_k_categorical_accuracy: 0.6582\n",
            "Epoch 74/100\n",
            "123/123 [==============================] - 2s 18ms/step - loss: 0.1084 - sparse_top_k_categorical_accuracy: 0.9990 - val_loss: 6.4995 - val_sparse_top_k_categorical_accuracy: 0.6663\n",
            "Epoch 75/100\n",
            "123/123 [==============================] - 2s 18ms/step - loss: 0.1093 - sparse_top_k_categorical_accuracy: 0.9997 - val_loss: 6.7005 - val_sparse_top_k_categorical_accuracy: 0.6511\n",
            "Epoch 76/100\n",
            "123/123 [==============================] - 2s 18ms/step - loss: 0.1402 - sparse_top_k_categorical_accuracy: 0.9992 - val_loss: 6.4143 - val_sparse_top_k_categorical_accuracy: 0.6745\n",
            "Epoch 77/100\n",
            "123/123 [==============================] - 2s 18ms/step - loss: 0.1168 - sparse_top_k_categorical_accuracy: 0.9995 - val_loss: 6.2285 - val_sparse_top_k_categorical_accuracy: 0.6653\n",
            "Epoch 78/100\n",
            "123/123 [==============================] - 2s 19ms/step - loss: 0.0966 - sparse_top_k_categorical_accuracy: 1.0000 - val_loss: 6.3598 - val_sparse_top_k_categorical_accuracy: 0.6755\n",
            "Epoch 79/100\n",
            "123/123 [==============================] - 2s 19ms/step - loss: 0.0886 - sparse_top_k_categorical_accuracy: 1.0000 - val_loss: 6.4961 - val_sparse_top_k_categorical_accuracy: 0.6694\n",
            "Epoch 80/100\n",
            "123/123 [==============================] - 2s 18ms/step - loss: 0.1138 - sparse_top_k_categorical_accuracy: 0.9992 - val_loss: 6.4209 - val_sparse_top_k_categorical_accuracy: 0.6734\n",
            "Epoch 81/100\n",
            "123/123 [==============================] - 2s 18ms/step - loss: 0.1157 - sparse_top_k_categorical_accuracy: 1.0000 - val_loss: 6.6961 - val_sparse_top_k_categorical_accuracy: 0.6460\n",
            "Epoch 82/100\n",
            "123/123 [==============================] - 2s 18ms/step - loss: 0.1531 - sparse_top_k_categorical_accuracy: 0.9992 - val_loss: 6.3672 - val_sparse_top_k_categorical_accuracy: 0.6480\n",
            "Epoch 83/100\n",
            "123/123 [==============================] - 2s 17ms/step - loss: 0.1741 - sparse_top_k_categorical_accuracy: 0.9997 - val_loss: 6.2540 - val_sparse_top_k_categorical_accuracy: 0.6521\n",
            "Epoch 84/100\n",
            "123/123 [==============================] - 2s 17ms/step - loss: 0.1507 - sparse_top_k_categorical_accuracy: 0.9995 - val_loss: 6.2409 - val_sparse_top_k_categorical_accuracy: 0.6572\n",
            "Epoch 85/100\n",
            "123/123 [==============================] - 2s 18ms/step - loss: 0.1350 - sparse_top_k_categorical_accuracy: 0.9997 - val_loss: 6.2637 - val_sparse_top_k_categorical_accuracy: 0.6714\n",
            "Epoch 86/100\n",
            "123/123 [==============================] - 2s 18ms/step - loss: 0.1156 - sparse_top_k_categorical_accuracy: 0.9995 - val_loss: 6.2680 - val_sparse_top_k_categorical_accuracy: 0.6663\n",
            "Epoch 87/100\n",
            "123/123 [==============================] - 2s 18ms/step - loss: 0.0939 - sparse_top_k_categorical_accuracy: 1.0000 - val_loss: 6.4537 - val_sparse_top_k_categorical_accuracy: 0.6643\n",
            "Epoch 88/100\n",
            "123/123 [==============================] - 2s 18ms/step - loss: 0.0777 - sparse_top_k_categorical_accuracy: 1.0000 - val_loss: 6.5051 - val_sparse_top_k_categorical_accuracy: 0.6511\n",
            "Epoch 89/100\n",
            "123/123 [==============================] - 2s 18ms/step - loss: 0.0788 - sparse_top_k_categorical_accuracy: 0.9995 - val_loss: 6.5274 - val_sparse_top_k_categorical_accuracy: 0.6643\n",
            "Epoch 90/100\n",
            "123/123 [==============================] - 2s 17ms/step - loss: 0.0920 - sparse_top_k_categorical_accuracy: 1.0000 - val_loss: 6.7233 - val_sparse_top_k_categorical_accuracy: 0.6643\n",
            "Epoch 91/100\n",
            "123/123 [==============================] - 2s 19ms/step - loss: 0.0933 - sparse_top_k_categorical_accuracy: 1.0000 - val_loss: 6.7829 - val_sparse_top_k_categorical_accuracy: 0.6623\n",
            "Epoch 92/100\n",
            "123/123 [==============================] - 2s 18ms/step - loss: 0.0973 - sparse_top_k_categorical_accuracy: 0.9997 - val_loss: 6.9650 - val_sparse_top_k_categorical_accuracy: 0.6562\n",
            "Epoch 93/100\n",
            "123/123 [==============================] - 2s 18ms/step - loss: 0.1311 - sparse_top_k_categorical_accuracy: 1.0000 - val_loss: 6.3104 - val_sparse_top_k_categorical_accuracy: 0.6643\n",
            "Epoch 94/100\n",
            "123/123 [==============================] - 2s 18ms/step - loss: 0.1238 - sparse_top_k_categorical_accuracy: 0.9992 - val_loss: 6.0226 - val_sparse_top_k_categorical_accuracy: 0.6612\n",
            "Epoch 95/100\n",
            "123/123 [==============================] - 2s 18ms/step - loss: 0.0885 - sparse_top_k_categorical_accuracy: 1.0000 - val_loss: 6.9188 - val_sparse_top_k_categorical_accuracy: 0.6541\n",
            "Epoch 96/100\n",
            "123/123 [==============================] - 2s 18ms/step - loss: 0.1187 - sparse_top_k_categorical_accuracy: 1.0000 - val_loss: 6.2592 - val_sparse_top_k_categorical_accuracy: 0.6612\n",
            "Epoch 97/100\n",
            "123/123 [==============================] - 2s 18ms/step - loss: 0.0779 - sparse_top_k_categorical_accuracy: 1.0000 - val_loss: 6.6920 - val_sparse_top_k_categorical_accuracy: 0.6612\n",
            "Epoch 98/100\n",
            "123/123 [==============================] - 2s 19ms/step - loss: 0.0767 - sparse_top_k_categorical_accuracy: 1.0000 - val_loss: 6.8405 - val_sparse_top_k_categorical_accuracy: 0.6714\n",
            "Epoch 99/100\n",
            "123/123 [==============================] - 2s 18ms/step - loss: 0.1054 - sparse_top_k_categorical_accuracy: 0.9990 - val_loss: 6.4889 - val_sparse_top_k_categorical_accuracy: 0.6643\n",
            "Epoch 100/100\n",
            "123/123 [==============================] - 2s 18ms/step - loss: 0.1283 - sparse_top_k_categorical_accuracy: 0.9997 - val_loss: 6.5665 - val_sparse_top_k_categorical_accuracy: 0.6511\n",
            "31/31 [==============================] - 0s 7ms/step - loss: 5.8314 - sparse_top_k_categorical_accuracy: 0.6836\n",
            "Test accuracy: 0.6836215853691101\n"
          ]
        }
      ]
    },
    {
      "cell_type": "code",
      "source": [
        "model.save('mediapipe_spectral_bilstm')\n",
        "reconstructed_model = load_model(\"mediapipe_spectral_bilstm\")\n",
        "test_loss, test_acc = reconstructed_model.evaluate(X_test, y_test_encoded)\n",
        "print(f'Test accuracy: {test_acc}')"
      ],
      "metadata": {
        "colab": {
          "base_uri": "https://localhost:8080/"
        },
        "id": "ODOP05FJIpFp",
        "outputId": "c844c325-e9d6-4c46-bd7a-b6bd7bf6456d"
      },
      "execution_count": 42,
      "outputs": [
        {
          "output_type": "stream",
          "name": "stdout",
          "text": [
            "31/31 [==============================] - 3s 8ms/step - loss: 5.8314 - sparse_top_k_categorical_accuracy: 0.6836\n",
            "Test accuracy: 0.6836215853691101\n"
          ]
        }
      ]
    },
    {
      "cell_type": "code",
      "source": [
        "!cp /content/bilstmcheckpoint.weights.h5 /content/drive/MyDrive/ml_project/bilstmcheckpoint.weights.h5\n",
        "!cp -r /content/mediapipe_spectral_bilstm /content/drive/MyDrive/ml_project/mediapipe_spectral_bilstm"
      ],
      "metadata": {
        "id": "wxqAeUhDsOfm"
      },
      "execution_count": 43,
      "outputs": []
    },
    {
      "cell_type": "code",
      "source": [],
      "metadata": {
        "id": "RxLC9LzDNPWR"
      },
      "execution_count": null,
      "outputs": []
    }
  ],
  "metadata": {
    "kernelspec": {
      "display_name": "Python 3",
      "name": "python3"
    },
    "language_info": {
      "codemirror_mode": {
        "name": "ipython",
        "version": 3
      },
      "file_extension": ".py",
      "mimetype": "text/x-python",
      "name": "python",
      "nbconvert_exporter": "python",
      "pygments_lexer": "ipython3",
      "version": "3.11.5"
    },
    "colab": {
      "provenance": [],
      "machine_shape": "hm",
      "gpuType": "T4"
    },
    "accelerator": "GPU"
  },
  "nbformat": 4,
  "nbformat_minor": 0
}